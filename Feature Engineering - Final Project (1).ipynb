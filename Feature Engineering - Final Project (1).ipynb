{
 "cells": [
  {
   "cell_type": "markdown",
   "metadata": {},
   "source": [
    "### In this notebook, we detail all of the features that we engineered with explanations of why we believed these features could be useful. Not all of the features shown in this JNB were used in our final models, as some did lower our AUC score, which we aimed to optimize.  "
   ]
  },
  {
   "cell_type": "code",
   "execution_count": 51,
   "metadata": {},
   "outputs": [],
   "source": [
    "import pandas as pd\n",
    "import datetime as dt\n",
    "import numpy as np\n",
    "import holidays as holiday_lib\n",
    "#conda install country_converter\n",
    "import country_converter as cc"
   ]
  },
  {
   "cell_type": "code",
   "execution_count": 52,
   "metadata": {},
   "outputs": [
    {
     "name": "stdout",
     "output_type": "stream",
     "text": [
      "hotel 0.0\n",
      "lead_time 0.0\n",
      "arrival_date_year 0.0\n",
      "arrival_date_month 0.0\n",
      "arrival_date_week_number 0.0\n",
      "arrival_date_day_of_month 0.0\n",
      "stays_in_weekend_nights 0.0\n",
      "stays_in_week_nights 0.0\n",
      "adults 0.0\n",
      "children 3.350364352123293e-05\n",
      "babies 0.0\n",
      "meal 0.0\n",
      "country 0.004087444509590418\n",
      "market_segment 0.0\n",
      "distribution_channel 0.0\n",
      "is_repeated_guest 0.0\n",
      "previous_cancellations 0.0\n",
      "previous_bookings_not_canceled 0.0\n",
      "reserved_room_type 0.0\n",
      "assigned_room_type 0.0\n",
      "booking_changes 0.0\n",
      "deposit_type 0.0\n",
      "agent 0.13686238378423654\n",
      "company 0.943068933746545\n",
      "days_in_waiting_list 0.0\n",
      "customer_type 0.0\n",
      "adr 0.0\n",
      "required_car_parking_spaces 0.0\n",
      "total_of_special_requests 0.0\n",
      "reservation_status 0.0\n",
      "reservation_status_date 0.0\n"
     ]
    }
   ],
   "source": [
    "df=pd.read_csv('hotel_bookings.csv')\n",
    "df.drop(['is_canceled'], axis=1, inplace=True)\n",
    "for x in df.columns:\n",
    "    print(x, bookings[x].isna().sum() / bookings.shape[0])"
   ]
  },
  {
   "cell_type": "code",
   "execution_count": 53,
   "metadata": {},
   "outputs": [
    {
     "data": {
      "text/plain": [
       "0         Resort Hotel\n",
       "1         Resort Hotel\n",
       "2         Resort Hotel\n",
       "3         Resort Hotel\n",
       "4         Resort Hotel\n",
       "              ...     \n",
       "119385      City Hotel\n",
       "119386      City Hotel\n",
       "119387      City Hotel\n",
       "119388      City Hotel\n",
       "119389      City Hotel\n",
       "Name: hotel, Length: 119390, dtype: object"
      ]
     },
     "execution_count": 53,
     "metadata": {},
     "output_type": "execute_result"
    }
   ],
   "source": [
    "df.hotel"
   ]
  },
  {
   "cell_type": "code",
   "execution_count": 54,
   "metadata": {},
   "outputs": [],
   "source": [
    "#Cleaning\n",
    "\n",
    "#filling missing values for children value as 0- signaling there were no children on the booking\n",
    "df['children'] = df['children'].fillna(0)\n",
    "\n",
    "#dataset explanation said that Undefined == SC; combined all undefined to be SC.\n",
    "df[\"meal\"] = df.meal.map(lambda x: \"SC\" if x == 'Undefined' else x)\n",
    "\n",
    "#dropped all rows that had a missing country value ~463\n",
    "df.dropna(subset=['country'], inplace=True)"
   ]
  },
  {
   "cell_type": "code",
   "execution_count": 55,
   "metadata": {},
   "outputs": [],
   "source": [
    "#creating new arrival_date column from individual date columns\n",
    "df['arrival_date'] = pd.to_datetime(df['arrival_date_year'].astype(str) + \n",
    "                                    df['arrival_date_month'].astype(str) + \n",
    "                                    df['arrival_date_day_of_month'].astype(str), format='%Y%B%d')"
   ]
  },
  {
   "cell_type": "code",
   "execution_count": 56,
   "metadata": {},
   "outputs": [],
   "source": [
    "#creating 'season' variable - maybe cancellations happen more during a particular type of year? Could be weather influenced\n",
    "df['season'] = df.arrival_date.dt.month.map(lambda x:'Spring' if x in [3,4,5] else \n",
    "                                            ('Summer' if x in [6,7,8] else \n",
    "                                             ('Fall' if x in [9,10,11] else 'Winter')))"
   ]
  },
  {
   "cell_type": "code",
   "execution_count": 57,
   "metadata": {},
   "outputs": [],
   "source": [
    "#creating variable showing total length of stay by adding weekday and weeknight stays\n",
    "df['stay_length'] = df['stays_in_weekend_nights'] + df['stays_in_week_nights']"
   ]
  },
  {
   "cell_type": "code",
   "execution_count": 58,
   "metadata": {},
   "outputs": [],
   "source": [
    "#creating a last minute variable, all bookings that were booked 5 days or earlier before check in are labeled as 1\n",
    "df['last_minute'] = df.lead_time.map(lambda x: 1 if x < 5 else 0)"
   ]
  },
  {
   "cell_type": "code",
   "execution_count": 59,
   "metadata": {},
   "outputs": [],
   "source": [
    "#extracting what day of the week the visitor was scheduled to arrive at the hotel; maybe guests that arrive on \n",
    "#certain weekdays/weekends are more likely to cancel. Business vs. leisure traveler?\n",
    "df['day_of_week_of_arrival'] = (df['arrival_date']).dt.day_name()"
   ]
  },
  {
   "cell_type": "code",
   "execution_count": 60,
   "metadata": {},
   "outputs": [],
   "source": [
    "#changing Month name to numeric\n",
    "df['arrival_date_month'] = pd.to_datetime(df.arrival_date_month, format='%B').dt.month"
   ]
  },
  {
   "cell_type": "code",
   "execution_count": 61,
   "metadata": {},
   "outputs": [],
   "source": [
    "#assigning bookings that were reserved the room type they requested 1, if they did not receive the room type they\n",
    "#requested, they are assigned 0.\n",
    "df['room_type_requested_and_received'] = np.where(df['reserved_room_type'] == df['assigned_room_type'], 1, 0)"
   ]
  },
  {
   "cell_type": "code",
   "execution_count": 62,
   "metadata": {},
   "outputs": [],
   "source": [
    "#creating range of dates: 1 week before their arrival date, 1 week after their arrival date\n",
    "df['range_before'] = df.arrival_date.apply(lambda x: x - dt.timedelta(weeks=1))\n",
    "df['range_after'] = df.arrival_date.apply(lambda x: x + dt.timedelta(weeks=1))\n",
    "\n",
    "#using holiday package to find local holidays in Portugal from the years of data we have and appending their dates\n",
    "#to a list \n",
    "holidays = holiday_lib.PT(years =[2015,2016,2017])\n",
    "holidates= []\n",
    "for date, name in holidays.items():\n",
    "    holidates.append(date)\n",
    "\n",
    "#assigning True/False if any of the holiday dates are within the 2 weeks of their arrival_date range; as some \n",
    "#guests may arrive for a holiday a few days before actual holiday, or used holiday time after holiday for travel\n",
    "hol=[any([(z>x)&(z<y) for z in holidates]) for x , y in zip(df.range_before, df.range_after)]\n",
    "df['is_holiday'] = hol\n",
    "df['is_holiday'] = df.is_holiday.map(lambda x: 1 if x == True else 0)"
   ]
  },
  {
   "cell_type": "code",
   "execution_count": 63,
   "metadata": {},
   "outputs": [
    {
     "name": "stderr",
     "output_type": "stream",
     "text": [
      "TMP not found in ISO3\n",
      "TMP not found in ISO3\n",
      "TMP not found in ISO3\n"
     ]
    }
   ],
   "source": [
    "#using country converter package \n",
    "converter = cc.CountryConverter()\n",
    "\n",
    "#code rounds through each country ISO-3 code per row, assigns what continent the country is part of in visitor_contient\n",
    "#variable, if ISO-3 is not recognized == 'missing'\n",
    "df['visitor_continent'] = df.country.map(lambda x: converter.convert(names = str(x),\n",
    "                                                                                 to='continent',\n",
    "                                                                                 not_found = 'missing'))\n",
    "\n",
    "#2 bookings came from Antarctica, assigning those as missing as they seem to be errors.\n",
    "df['visitor_continent'] = df['visitor_continent'].map(lambda x: \"missing\" if x == 'Antarctica' else x)"
   ]
  },
  {
   "cell_type": "code",
   "execution_count": 64,
   "metadata": {},
   "outputs": [],
   "source": [
    "#created binning variables for waiting list duration - quantiles were not ideal as median is 0.0, yet max is 391. \n",
    "df['no_wait'] = df['days_in_waiting_list'].map(lambda x: 1 if x == 0 else 0)\n",
    "df['one_week_wait'] = df['days_in_waiting_list'].map(lambda x: 1 if x > 0 and x < 8 else 0)\n",
    "df['week_to_month_wait'] = df['days_in_waiting_list'].map(lambda x: 1 if x > 7  and x < 31 else 0)\n",
    "df['month_plus_wait'] = df['days_in_waiting_list'].map(lambda x: 1 if x > 31 else 0)"
   ]
  },
  {
   "cell_type": "code",
   "execution_count": 65,
   "metadata": {},
   "outputs": [],
   "source": [
    "#binning variables with similar value distributions\n",
    "binn =['booking_changes', 'previous_cancellations']\n",
    "\n",
    "for x in binn:\n",
    "    df[x + \"_none\"] = df[x].map(lambda x: 1 if x == 0 else 0)\n",
    "    df[x + '_max5'] = df[x].map(lambda x: 1 if x > 0 and x < 6 else 0)\n",
    "    df[x + '_many'] = df[x].map(lambda x: 1 if x > 5 else 0)"
   ]
  },
  {
   "cell_type": "code",
   "execution_count": 66,
   "metadata": {},
   "outputs": [],
   "source": [
    "encode = ['hotel','market_segment','deposit_type','customer_type', 'day_of_week_of_arrival',\n",
    "          'distribution_channel', 'meal', 'season', 'visitor_continent']\n",
    "\n",
    "for var in encode:\n",
    "    book = pd.get_dummies(df[var], prefix = var) \n",
    "    df = pd.concat([df, book], axis = 1) \n",
    "    del df[var]"
   ]
  }
 ],
 "metadata": {
  "kernelspec": {
   "display_name": "Python 3",
   "language": "python",
   "name": "python3"
  },
  "language_info": {
   "codemirror_mode": {
    "name": "ipython",
    "version": 3
   },
   "file_extension": ".py",
   "mimetype": "text/x-python",
   "name": "python",
   "nbconvert_exporter": "python",
   "pygments_lexer": "ipython3",
   "version": "3.7.7"
  }
 },
 "nbformat": 4,
 "nbformat_minor": 4
}
